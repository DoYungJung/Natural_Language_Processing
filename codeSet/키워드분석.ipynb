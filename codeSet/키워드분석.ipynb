{
 "cells": [
  {
   "cell_type": "markdown",
   "id": "32d867d9-f2fa-4132-8758-0edb33bdc7ab",
   "metadata": {},
   "source": [
    "## 키워드 분석(Keyword Analysis)"
   ]
  },
  {
   "cell_type": "markdown",
   "id": "1526a1ec-d85d-4d7c-936f-e964673be03a",
   "metadata": {},
   "source": [
    "###### 1 : 핵심어(keyword)란 텍스트 자료의 중요한 내용을 압축적으로 제시하는 단어 또는 문구\n",
    "###### 2 : 핵심어 분석이란 불용어 제거와 어간추출 및 형태소 분석 등의 자연어 처리를 시행한 후 텍스트에서 많이 등장하는 형태소의 등장 빈도를 분석함으로써 핵심어를 추출\n",
    "###### 3 : 특정 텍스트 자료에 많이 나타나는 형태소가 그 텍스트 주제를 표출할 가능성이 높다는 가정에 기초\n",
    "###### 4 : 특정 빈도 분석에서 영어의 전치사나 한국어의 조사와 같이 의미를 별로 담고 있지 않은 불용어는 제외하는 것이 좋음\n",
    "###### 5 : 키워드 분석은 텍스트의 주제 추정, 텍스트 유사도, 검색 엔진의 검색 결과 우선 순위 측정 등 다양하게 사용될 수 있음"
   ]
  },
  {
   "cell_type": "code",
   "execution_count": null,
   "id": "db5edaab-025d-4d5d-86b9-42174844f160",
   "metadata": {},
   "outputs": [],
   "source": []
  }
 ],
 "metadata": {
  "kernelspec": {
   "display_name": "mecab",
   "language": "python",
   "name": "mecab"
  },
  "language_info": {
   "codemirror_mode": {
    "name": "ipython",
    "version": 3
   },
   "file_extension": ".py",
   "mimetype": "text/x-python",
   "name": "python",
   "nbconvert_exporter": "python",
   "pygments_lexer": "ipython3",
   "version": "3.9.13"
  }
 },
 "nbformat": 4,
 "nbformat_minor": 5
}
